{
  "nbformat": 4,
  "nbformat_minor": 0,
  "metadata": {
    "colab": {
      "name": "diabet.ipynb",
      "provenance": [],
      "authorship_tag": "ABX9TyP/MvRthlydTq+1XqBdWlBW",
      "include_colab_link": true
    },
    "kernelspec": {
      "name": "python3",
      "display_name": "Python 3"
    },
    "language_info": {
      "name": "python"
    }
  },
  "cells": [
    {
      "cell_type": "markdown",
      "metadata": {
        "id": "view-in-github",
        "colab_type": "text"
      },
      "source": [
        "<a href=\"https://colab.research.google.com/github/shox21512/shox/blob/master/diabet.ipynb\" target=\"_parent\"><img src=\"https://colab.research.google.com/assets/colab-badge.svg\" alt=\"Open In Colab\"/></a>"
      ]
    },
    {
      "cell_type": "code",
      "execution_count": 1,
      "metadata": {
        "id": "5Elw8R2Cd4TZ"
      },
      "outputs": [],
      "source": [
        "import pandas as pd\n",
        "import numpy as np"
      ]
    },
    {
      "cell_type": "code",
      "source": [
        "url=\"https://raw.githubusercontent.com/anvarnarz/praktikum_datasets/main/diabetes.csv\"\n",
        "df = pd.read_csv(url)\n",
        "df.sample(10)"
      ],
      "metadata": {
        "colab": {
          "base_uri": "https://localhost:8080/",
          "height": 363
        },
        "id": "JeszDuMeeOg1",
        "outputId": "cdfd754f-eef4-408d-fec1-e85aec7e96f2"
      },
      "execution_count": 4,
      "outputs": [
        {
          "output_type": "execute_result",
          "data": {
            "text/plain": [
              "     Pregnancies  Glucose  BloodPressure  SkinThickness  Insulin   BMI  \\\n",
              "630            7      114             64              0        0  27.4   \n",
              "749            6      162             62              0        0  24.3   \n",
              "161            7      102             74             40      105  37.2   \n",
              "700            2      122             76             27      200  35.9   \n",
              "342            1        0             68             35        0  32.0   \n",
              "95             6      144             72             27      228  33.9   \n",
              "204            6      103             72             32      190  37.7   \n",
              "553            1       88             62             24       44  29.9   \n",
              "714            3      102             74              0        0  29.5   \n",
              "340            1      130             70             13      105  25.9   \n",
              "\n",
              "     DiabetesPedigreeFunction  Age  Outcome  \n",
              "630                     0.732   34        1  \n",
              "749                     0.178   50        1  \n",
              "161                     0.204   45        0  \n",
              "700                     0.483   26        0  \n",
              "342                     0.389   22        0  \n",
              "95                      0.255   40        0  \n",
              "204                     0.324   55        0  \n",
              "553                     0.422   23        0  \n",
              "714                     0.121   32        0  \n",
              "340                     0.472   22        0  "
            ],
            "text/html": [
              "\n",
              "  <div id=\"df-2ea5ed55-5d83-4be6-9178-ca7c9e7c40a8\">\n",
              "    <div class=\"colab-df-container\">\n",
              "      <div>\n",
              "<style scoped>\n",
              "    .dataframe tbody tr th:only-of-type {\n",
              "        vertical-align: middle;\n",
              "    }\n",
              "\n",
              "    .dataframe tbody tr th {\n",
              "        vertical-align: top;\n",
              "    }\n",
              "\n",
              "    .dataframe thead th {\n",
              "        text-align: right;\n",
              "    }\n",
              "</style>\n",
              "<table border=\"1\" class=\"dataframe\">\n",
              "  <thead>\n",
              "    <tr style=\"text-align: right;\">\n",
              "      <th></th>\n",
              "      <th>Pregnancies</th>\n",
              "      <th>Glucose</th>\n",
              "      <th>BloodPressure</th>\n",
              "      <th>SkinThickness</th>\n",
              "      <th>Insulin</th>\n",
              "      <th>BMI</th>\n",
              "      <th>DiabetesPedigreeFunction</th>\n",
              "      <th>Age</th>\n",
              "      <th>Outcome</th>\n",
              "    </tr>\n",
              "  </thead>\n",
              "  <tbody>\n",
              "    <tr>\n",
              "      <th>630</th>\n",
              "      <td>7</td>\n",
              "      <td>114</td>\n",
              "      <td>64</td>\n",
              "      <td>0</td>\n",
              "      <td>0</td>\n",
              "      <td>27.4</td>\n",
              "      <td>0.732</td>\n",
              "      <td>34</td>\n",
              "      <td>1</td>\n",
              "    </tr>\n",
              "    <tr>\n",
              "      <th>749</th>\n",
              "      <td>6</td>\n",
              "      <td>162</td>\n",
              "      <td>62</td>\n",
              "      <td>0</td>\n",
              "      <td>0</td>\n",
              "      <td>24.3</td>\n",
              "      <td>0.178</td>\n",
              "      <td>50</td>\n",
              "      <td>1</td>\n",
              "    </tr>\n",
              "    <tr>\n",
              "      <th>161</th>\n",
              "      <td>7</td>\n",
              "      <td>102</td>\n",
              "      <td>74</td>\n",
              "      <td>40</td>\n",
              "      <td>105</td>\n",
              "      <td>37.2</td>\n",
              "      <td>0.204</td>\n",
              "      <td>45</td>\n",
              "      <td>0</td>\n",
              "    </tr>\n",
              "    <tr>\n",
              "      <th>700</th>\n",
              "      <td>2</td>\n",
              "      <td>122</td>\n",
              "      <td>76</td>\n",
              "      <td>27</td>\n",
              "      <td>200</td>\n",
              "      <td>35.9</td>\n",
              "      <td>0.483</td>\n",
              "      <td>26</td>\n",
              "      <td>0</td>\n",
              "    </tr>\n",
              "    <tr>\n",
              "      <th>342</th>\n",
              "      <td>1</td>\n",
              "      <td>0</td>\n",
              "      <td>68</td>\n",
              "      <td>35</td>\n",
              "      <td>0</td>\n",
              "      <td>32.0</td>\n",
              "      <td>0.389</td>\n",
              "      <td>22</td>\n",
              "      <td>0</td>\n",
              "    </tr>\n",
              "    <tr>\n",
              "      <th>95</th>\n",
              "      <td>6</td>\n",
              "      <td>144</td>\n",
              "      <td>72</td>\n",
              "      <td>27</td>\n",
              "      <td>228</td>\n",
              "      <td>33.9</td>\n",
              "      <td>0.255</td>\n",
              "      <td>40</td>\n",
              "      <td>0</td>\n",
              "    </tr>\n",
              "    <tr>\n",
              "      <th>204</th>\n",
              "      <td>6</td>\n",
              "      <td>103</td>\n",
              "      <td>72</td>\n",
              "      <td>32</td>\n",
              "      <td>190</td>\n",
              "      <td>37.7</td>\n",
              "      <td>0.324</td>\n",
              "      <td>55</td>\n",
              "      <td>0</td>\n",
              "    </tr>\n",
              "    <tr>\n",
              "      <th>553</th>\n",
              "      <td>1</td>\n",
              "      <td>88</td>\n",
              "      <td>62</td>\n",
              "      <td>24</td>\n",
              "      <td>44</td>\n",
              "      <td>29.9</td>\n",
              "      <td>0.422</td>\n",
              "      <td>23</td>\n",
              "      <td>0</td>\n",
              "    </tr>\n",
              "    <tr>\n",
              "      <th>714</th>\n",
              "      <td>3</td>\n",
              "      <td>102</td>\n",
              "      <td>74</td>\n",
              "      <td>0</td>\n",
              "      <td>0</td>\n",
              "      <td>29.5</td>\n",
              "      <td>0.121</td>\n",
              "      <td>32</td>\n",
              "      <td>0</td>\n",
              "    </tr>\n",
              "    <tr>\n",
              "      <th>340</th>\n",
              "      <td>1</td>\n",
              "      <td>130</td>\n",
              "      <td>70</td>\n",
              "      <td>13</td>\n",
              "      <td>105</td>\n",
              "      <td>25.9</td>\n",
              "      <td>0.472</td>\n",
              "      <td>22</td>\n",
              "      <td>0</td>\n",
              "    </tr>\n",
              "  </tbody>\n",
              "</table>\n",
              "</div>\n",
              "      <button class=\"colab-df-convert\" onclick=\"convertToInteractive('df-2ea5ed55-5d83-4be6-9178-ca7c9e7c40a8')\"\n",
              "              title=\"Convert this dataframe to an interactive table.\"\n",
              "              style=\"display:none;\">\n",
              "        \n",
              "  <svg xmlns=\"http://www.w3.org/2000/svg\" height=\"24px\"viewBox=\"0 0 24 24\"\n",
              "       width=\"24px\">\n",
              "    <path d=\"M0 0h24v24H0V0z\" fill=\"none\"/>\n",
              "    <path d=\"M18.56 5.44l.94 2.06.94-2.06 2.06-.94-2.06-.94-.94-2.06-.94 2.06-2.06.94zm-11 1L8.5 8.5l.94-2.06 2.06-.94-2.06-.94L8.5 2.5l-.94 2.06-2.06.94zm10 10l.94 2.06.94-2.06 2.06-.94-2.06-.94-.94-2.06-.94 2.06-2.06.94z\"/><path d=\"M17.41 7.96l-1.37-1.37c-.4-.4-.92-.59-1.43-.59-.52 0-1.04.2-1.43.59L10.3 9.45l-7.72 7.72c-.78.78-.78 2.05 0 2.83L4 21.41c.39.39.9.59 1.41.59.51 0 1.02-.2 1.41-.59l7.78-7.78 2.81-2.81c.8-.78.8-2.07 0-2.86zM5.41 20L4 18.59l7.72-7.72 1.47 1.35L5.41 20z\"/>\n",
              "  </svg>\n",
              "      </button>\n",
              "      \n",
              "  <style>\n",
              "    .colab-df-container {\n",
              "      display:flex;\n",
              "      flex-wrap:wrap;\n",
              "      gap: 12px;\n",
              "    }\n",
              "\n",
              "    .colab-df-convert {\n",
              "      background-color: #E8F0FE;\n",
              "      border: none;\n",
              "      border-radius: 50%;\n",
              "      cursor: pointer;\n",
              "      display: none;\n",
              "      fill: #1967D2;\n",
              "      height: 32px;\n",
              "      padding: 0 0 0 0;\n",
              "      width: 32px;\n",
              "    }\n",
              "\n",
              "    .colab-df-convert:hover {\n",
              "      background-color: #E2EBFA;\n",
              "      box-shadow: 0px 1px 2px rgba(60, 64, 67, 0.3), 0px 1px 3px 1px rgba(60, 64, 67, 0.15);\n",
              "      fill: #174EA6;\n",
              "    }\n",
              "\n",
              "    [theme=dark] .colab-df-convert {\n",
              "      background-color: #3B4455;\n",
              "      fill: #D2E3FC;\n",
              "    }\n",
              "\n",
              "    [theme=dark] .colab-df-convert:hover {\n",
              "      background-color: #434B5C;\n",
              "      box-shadow: 0px 1px 3px 1px rgba(0, 0, 0, 0.15);\n",
              "      filter: drop-shadow(0px 1px 2px rgba(0, 0, 0, 0.3));\n",
              "      fill: #FFFFFF;\n",
              "    }\n",
              "  </style>\n",
              "\n",
              "      <script>\n",
              "        const buttonEl =\n",
              "          document.querySelector('#df-2ea5ed55-5d83-4be6-9178-ca7c9e7c40a8 button.colab-df-convert');\n",
              "        buttonEl.style.display =\n",
              "          google.colab.kernel.accessAllowed ? 'block' : 'none';\n",
              "\n",
              "        async function convertToInteractive(key) {\n",
              "          const element = document.querySelector('#df-2ea5ed55-5d83-4be6-9178-ca7c9e7c40a8');\n",
              "          const dataTable =\n",
              "            await google.colab.kernel.invokeFunction('convertToInteractive',\n",
              "                                                     [key], {});\n",
              "          if (!dataTable) return;\n",
              "\n",
              "          const docLinkHtml = 'Like what you see? Visit the ' +\n",
              "            '<a target=\"_blank\" href=https://colab.research.google.com/notebooks/data_table.ipynb>data table notebook</a>'\n",
              "            + ' to learn more about interactive tables.';\n",
              "          element.innerHTML = '';\n",
              "          dataTable['output_type'] = 'display_data';\n",
              "          await google.colab.output.renderOutput(dataTable, element);\n",
              "          const docLink = document.createElement('div');\n",
              "          docLink.innerHTML = docLinkHtml;\n",
              "          element.appendChild(docLink);\n",
              "        }\n",
              "      </script>\n",
              "    </div>\n",
              "  </div>\n",
              "  "
            ]
          },
          "metadata": {},
          "execution_count": 4
        }
      ]
    },
    {
      "cell_type": "code",
      "source": [
        "df.shape"
      ],
      "metadata": {
        "colab": {
          "base_uri": "https://localhost:8080/"
        },
        "id": "vDLkiKSkeXOB",
        "outputId": "b0bcc30a-c576-4fe8-91da-9b978636fe93"
      },
      "execution_count": 6,
      "outputs": [
        {
          "output_type": "execute_result",
          "data": {
            "text/plain": [
              "(768, 9)"
            ]
          },
          "metadata": {},
          "execution_count": 6
        }
      ]
    },
    {
      "cell_type": "code",
      "source": [
        "df['Outcome'].value_counts()"
      ],
      "metadata": {
        "colab": {
          "base_uri": "https://localhost:8080/"
        },
        "id": "W0t8T_-NfqYr",
        "outputId": "80ea0e81-54cc-42ba-e0d2-1fe6bf23cc84"
      },
      "execution_count": 7,
      "outputs": [
        {
          "output_type": "execute_result",
          "data": {
            "text/plain": [
              "0    500\n",
              "1    268\n",
              "Name: Outcome, dtype: int64"
            ]
          },
          "metadata": {},
          "execution_count": 7
        }
      ]
    },
    {
      "cell_type": "code",
      "source": [
        "corr_matrix = df.corr().abs()\n",
        "corr_matrix.style.background_gradient(cmap='coolwarm')"
      ],
      "metadata": {
        "colab": {
          "base_uri": "https://localhost:8080/",
          "height": 332
        },
        "id": "5qaiz4XJf7QR",
        "outputId": "0c10edb5-b1d6-4228-a0dd-316dd1c7ad81"
      },
      "execution_count": 9,
      "outputs": [
        {
          "output_type": "execute_result",
          "data": {
            "text/plain": [
              "<pandas.io.formats.style.Styler at 0x7f4bf5e6bb10>"
            ],
            "text/html": [
              "<style type=\"text/css\">\n",
              "#T_e4c4c_row0_col0, #T_e4c4c_row1_col1, #T_e4c4c_row2_col2, #T_e4c4c_row3_col3, #T_e4c4c_row4_col4, #T_e4c4c_row5_col5, #T_e4c4c_row6_col6, #T_e4c4c_row7_col7, #T_e4c4c_row8_col8 {\n",
              "  background-color: #b40426;\n",
              "  color: #f1f1f1;\n",
              "}\n",
              "#T_e4c4c_row0_col1 {\n",
              "  background-color: #516ddb;\n",
              "  color: #f1f1f1;\n",
              "}\n",
              "#T_e4c4c_row0_col2 {\n",
              "  background-color: #5a78e4;\n",
              "  color: #f1f1f1;\n",
              "}\n",
              "#T_e4c4c_row0_col3, #T_e4c4c_row8_col2 {\n",
              "  background-color: #4257c9;\n",
              "  color: #f1f1f1;\n",
              "}\n",
              "#T_e4c4c_row0_col4 {\n",
              "  background-color: #445acc;\n",
              "  color: #f1f1f1;\n",
              "}\n",
              "#T_e4c4c_row0_col5, #T_e4c4c_row0_col6, #T_e4c4c_row1_col3, #T_e4c4c_row2_col8, #T_e4c4c_row3_col1, #T_e4c4c_row5_col0, #T_e4c4c_row5_col7, #T_e4c4c_row6_col2, #T_e4c4c_row6_col7, #T_e4c4c_row7_col4, #T_e4c4c_row7_col6 {\n",
              "  background-color: #3b4cc0;\n",
              "  color: #f1f1f1;\n",
              "}\n",
              "#T_e4c4c_row0_col7 {\n",
              "  background-color: #e4d9d2;\n",
              "  color: #000000;\n",
              "}\n",
              "#T_e4c4c_row0_col8 {\n",
              "  background-color: #6f92f3;\n",
              "  color: #f1f1f1;\n",
              "}\n",
              "#T_e4c4c_row1_col0, #T_e4c4c_row1_col2, #T_e4c4c_row6_col8 {\n",
              "  background-color: #5e7de7;\n",
              "  color: #f1f1f1;\n",
              "}\n",
              "#T_e4c4c_row1_col4 {\n",
              "  background-color: #9fbfff;\n",
              "  color: #000000;\n",
              "}\n",
              "#T_e4c4c_row1_col5, #T_e4c4c_row8_col0 {\n",
              "  background-color: #7ea1fa;\n",
              "  color: #f1f1f1;\n",
              "}\n",
              "#T_e4c4c_row1_col6 {\n",
              "  background-color: #5b7ae5;\n",
              "  color: #f1f1f1;\n",
              "}\n",
              "#T_e4c4c_row1_col7 {\n",
              "  background-color: #88abfd;\n",
              "  color: #000000;\n",
              "}\n",
              "#T_e4c4c_row1_col8 {\n",
              "  background-color: #c9d7f0;\n",
              "  color: #000000;\n",
              "}\n",
              "#T_e4c4c_row2_col0, #T_e4c4c_row6_col5 {\n",
              "  background-color: #6282ea;\n",
              "  color: #f1f1f1;\n",
              "}\n",
              "#T_e4c4c_row2_col1 {\n",
              "  background-color: #5977e3;\n",
              "  color: #f1f1f1;\n",
              "}\n",
              "#T_e4c4c_row2_col3, #T_e4c4c_row4_col6 {\n",
              "  background-color: #6c8ff1;\n",
              "  color: #f1f1f1;\n",
              "}\n",
              "#T_e4c4c_row2_col4, #T_e4c4c_row4_col2 {\n",
              "  background-color: #4961d2;\n",
              "  color: #f1f1f1;\n",
              "}\n",
              "#T_e4c4c_row2_col5 {\n",
              "  background-color: #93b5fe;\n",
              "  color: #000000;\n",
              "}\n",
              "#T_e4c4c_row2_col6, #T_e4c4c_row3_col8, #T_e4c4c_row4_col7 {\n",
              "  background-color: #3d50c3;\n",
              "  color: #f1f1f1;\n",
              "}\n",
              "#T_e4c4c_row2_col7, #T_e4c4c_row8_col7 {\n",
              "  background-color: #80a3fa;\n",
              "  color: #f1f1f1;\n",
              "}\n",
              "#T_e4c4c_row3_col0 {\n",
              "  background-color: #4e68d8;\n",
              "  color: #f1f1f1;\n",
              "}\n",
              "#T_e4c4c_row3_col2, #T_e4c4c_row5_col1 {\n",
              "  background-color: #7295f4;\n",
              "  color: #f1f1f1;\n",
              "}\n",
              "#T_e4c4c_row3_col4 {\n",
              "  background-color: #c4d5f3;\n",
              "  color: #000000;\n",
              "}\n",
              "#T_e4c4c_row3_col5 {\n",
              "  background-color: #bad0f8;\n",
              "  color: #000000;\n",
              "}\n",
              "#T_e4c4c_row3_col6 {\n",
              "  background-color: #6b8df0;\n",
              "  color: #f1f1f1;\n",
              "}\n",
              "#T_e4c4c_row3_col7, #T_e4c4c_row6_col1 {\n",
              "  background-color: #5470de;\n",
              "  color: #f1f1f1;\n",
              "}\n",
              "#T_e4c4c_row4_col0 {\n",
              "  background-color: #4b64d5;\n",
              "  color: #f1f1f1;\n",
              "}\n",
              "#T_e4c4c_row4_col1 {\n",
              "  background-color: #9bbcff;\n",
              "  color: #000000;\n",
              "}\n",
              "#T_e4c4c_row4_col3 {\n",
              "  background-color: #c1d4f4;\n",
              "  color: #000000;\n",
              "}\n",
              "#T_e4c4c_row4_col5 {\n",
              "  background-color: #7597f6;\n",
              "  color: #f1f1f1;\n",
              "}\n",
              "#T_e4c4c_row4_col8 {\n",
              "  background-color: #4f69d9;\n",
              "  color: #f1f1f1;\n",
              "}\n",
              "#T_e4c4c_row5_col2 {\n",
              "  background-color: #8db0fe;\n",
              "  color: #000000;\n",
              "}\n",
              "#T_e4c4c_row5_col3 {\n",
              "  background-color: #b2ccfb;\n",
              "  color: #000000;\n",
              "}\n",
              "#T_e4c4c_row5_col4 {\n",
              "  background-color: #6e90f2;\n",
              "  color: #f1f1f1;\n",
              "}\n",
              "#T_e4c4c_row5_col6 {\n",
              "  background-color: #5d7ce6;\n",
              "  color: #f1f1f1;\n",
              "}\n",
              "#T_e4c4c_row5_col8 {\n",
              "  background-color: #8badfd;\n",
              "  color: #000000;\n",
              "}\n",
              "#T_e4c4c_row6_col0, #T_e4c4c_row7_col5, #T_e4c4c_row8_col3 {\n",
              "  background-color: #3f53c6;\n",
              "  color: #f1f1f1;\n",
              "}\n",
              "#T_e4c4c_row6_col3 {\n",
              "  background-color: #6485ec;\n",
              "  color: #f1f1f1;\n",
              "}\n",
              "#T_e4c4c_row6_col4 {\n",
              "  background-color: #6a8bef;\n",
              "  color: #f1f1f1;\n",
              "}\n",
              "#T_e4c4c_row7_col0 {\n",
              "  background-color: #e6d7cf;\n",
              "  color: #000000;\n",
              "}\n",
              "#T_e4c4c_row7_col1 {\n",
              "  background-color: #81a4fb;\n",
              "  color: #f1f1f1;\n",
              "}\n",
              "#T_e4c4c_row7_col2 {\n",
              "  background-color: #7da0f9;\n",
              "  color: #f1f1f1;\n",
              "}\n",
              "#T_e4c4c_row7_col3 {\n",
              "  background-color: #4c66d6;\n",
              "  color: #f1f1f1;\n",
              "}\n",
              "#T_e4c4c_row7_col8 {\n",
              "  background-color: #7699f6;\n",
              "  color: #f1f1f1;\n",
              "}\n",
              "#T_e4c4c_row8_col1 {\n",
              "  background-color: #cbd8ee;\n",
              "  color: #000000;\n",
              "}\n",
              "#T_e4c4c_row8_col4 {\n",
              "  background-color: #5673e0;\n",
              "  color: #f1f1f1;\n",
              "}\n",
              "#T_e4c4c_row8_col5 {\n",
              "  background-color: #97b8ff;\n",
              "  color: #000000;\n",
              "}\n",
              "#T_e4c4c_row8_col6 {\n",
              "  background-color: #688aef;\n",
              "  color: #f1f1f1;\n",
              "}\n",
              "</style>\n",
              "<table id=\"T_e4c4c_\" class=\"dataframe\">\n",
              "  <thead>\n",
              "    <tr>\n",
              "      <th class=\"blank level0\" >&nbsp;</th>\n",
              "      <th class=\"col_heading level0 col0\" >Pregnancies</th>\n",
              "      <th class=\"col_heading level0 col1\" >Glucose</th>\n",
              "      <th class=\"col_heading level0 col2\" >BloodPressure</th>\n",
              "      <th class=\"col_heading level0 col3\" >SkinThickness</th>\n",
              "      <th class=\"col_heading level0 col4\" >Insulin</th>\n",
              "      <th class=\"col_heading level0 col5\" >BMI</th>\n",
              "      <th class=\"col_heading level0 col6\" >DiabetesPedigreeFunction</th>\n",
              "      <th class=\"col_heading level0 col7\" >Age</th>\n",
              "      <th class=\"col_heading level0 col8\" >Outcome</th>\n",
              "    </tr>\n",
              "  </thead>\n",
              "  <tbody>\n",
              "    <tr>\n",
              "      <th id=\"T_e4c4c_level0_row0\" class=\"row_heading level0 row0\" >Pregnancies</th>\n",
              "      <td id=\"T_e4c4c_row0_col0\" class=\"data row0 col0\" >1.000000</td>\n",
              "      <td id=\"T_e4c4c_row0_col1\" class=\"data row0 col1\" >0.129459</td>\n",
              "      <td id=\"T_e4c4c_row0_col2\" class=\"data row0 col2\" >0.141282</td>\n",
              "      <td id=\"T_e4c4c_row0_col3\" class=\"data row0 col3\" >0.081672</td>\n",
              "      <td id=\"T_e4c4c_row0_col4\" class=\"data row0 col4\" >0.073535</td>\n",
              "      <td id=\"T_e4c4c_row0_col5\" class=\"data row0 col5\" >0.017683</td>\n",
              "      <td id=\"T_e4c4c_row0_col6\" class=\"data row0 col6\" >0.033523</td>\n",
              "      <td id=\"T_e4c4c_row0_col7\" class=\"data row0 col7\" >0.544341</td>\n",
              "      <td id=\"T_e4c4c_row0_col8\" class=\"data row0 col8\" >0.221898</td>\n",
              "    </tr>\n",
              "    <tr>\n",
              "      <th id=\"T_e4c4c_level0_row1\" class=\"row_heading level0 row1\" >Glucose</th>\n",
              "      <td id=\"T_e4c4c_row1_col0\" class=\"data row1 col0\" >0.129459</td>\n",
              "      <td id=\"T_e4c4c_row1_col1\" class=\"data row1 col1\" >1.000000</td>\n",
              "      <td id=\"T_e4c4c_row1_col2\" class=\"data row1 col2\" >0.152590</td>\n",
              "      <td id=\"T_e4c4c_row1_col3\" class=\"data row1 col3\" >0.057328</td>\n",
              "      <td id=\"T_e4c4c_row1_col4\" class=\"data row1 col4\" >0.331357</td>\n",
              "      <td id=\"T_e4c4c_row1_col5\" class=\"data row1 col5\" >0.221071</td>\n",
              "      <td id=\"T_e4c4c_row1_col6\" class=\"data row1 col6\" >0.137337</td>\n",
              "      <td id=\"T_e4c4c_row1_col7\" class=\"data row1 col7\" >0.263514</td>\n",
              "      <td id=\"T_e4c4c_row1_col8\" class=\"data row1 col8\" >0.466581</td>\n",
              "    </tr>\n",
              "    <tr>\n",
              "      <th id=\"T_e4c4c_level0_row2\" class=\"row_heading level0 row2\" >BloodPressure</th>\n",
              "      <td id=\"T_e4c4c_row2_col0\" class=\"data row2 col0\" >0.141282</td>\n",
              "      <td id=\"T_e4c4c_row2_col1\" class=\"data row2 col1\" >0.152590</td>\n",
              "      <td id=\"T_e4c4c_row2_col2\" class=\"data row2 col2\" >1.000000</td>\n",
              "      <td id=\"T_e4c4c_row2_col3\" class=\"data row2 col3\" >0.207371</td>\n",
              "      <td id=\"T_e4c4c_row2_col4\" class=\"data row2 col4\" >0.088933</td>\n",
              "      <td id=\"T_e4c4c_row2_col5\" class=\"data row2 col5\" >0.281805</td>\n",
              "      <td id=\"T_e4c4c_row2_col6\" class=\"data row2 col6\" >0.041265</td>\n",
              "      <td id=\"T_e4c4c_row2_col7\" class=\"data row2 col7\" >0.239528</td>\n",
              "      <td id=\"T_e4c4c_row2_col8\" class=\"data row2 col8\" >0.065068</td>\n",
              "    </tr>\n",
              "    <tr>\n",
              "      <th id=\"T_e4c4c_level0_row3\" class=\"row_heading level0 row3\" >SkinThickness</th>\n",
              "      <td id=\"T_e4c4c_row3_col0\" class=\"data row3 col0\" >0.081672</td>\n",
              "      <td id=\"T_e4c4c_row3_col1\" class=\"data row3 col1\" >0.057328</td>\n",
              "      <td id=\"T_e4c4c_row3_col2\" class=\"data row3 col2\" >0.207371</td>\n",
              "      <td id=\"T_e4c4c_row3_col3\" class=\"data row3 col3\" >1.000000</td>\n",
              "      <td id=\"T_e4c4c_row3_col4\" class=\"data row3 col4\" >0.436783</td>\n",
              "      <td id=\"T_e4c4c_row3_col5\" class=\"data row3 col5\" >0.392573</td>\n",
              "      <td id=\"T_e4c4c_row3_col6\" class=\"data row3 col6\" >0.183928</td>\n",
              "      <td id=\"T_e4c4c_row3_col7\" class=\"data row3 col7\" >0.113970</td>\n",
              "      <td id=\"T_e4c4c_row3_col8\" class=\"data row3 col8\" >0.074752</td>\n",
              "    </tr>\n",
              "    <tr>\n",
              "      <th id=\"T_e4c4c_level0_row4\" class=\"row_heading level0 row4\" >Insulin</th>\n",
              "      <td id=\"T_e4c4c_row4_col0\" class=\"data row4 col0\" >0.073535</td>\n",
              "      <td id=\"T_e4c4c_row4_col1\" class=\"data row4 col1\" >0.331357</td>\n",
              "      <td id=\"T_e4c4c_row4_col2\" class=\"data row4 col2\" >0.088933</td>\n",
              "      <td id=\"T_e4c4c_row4_col3\" class=\"data row4 col3\" >0.436783</td>\n",
              "      <td id=\"T_e4c4c_row4_col4\" class=\"data row4 col4\" >1.000000</td>\n",
              "      <td id=\"T_e4c4c_row4_col5\" class=\"data row4 col5\" >0.197859</td>\n",
              "      <td id=\"T_e4c4c_row4_col6\" class=\"data row4 col6\" >0.185071</td>\n",
              "      <td id=\"T_e4c4c_row4_col7\" class=\"data row4 col7\" >0.042163</td>\n",
              "      <td id=\"T_e4c4c_row4_col8\" class=\"data row4 col8\" >0.130548</td>\n",
              "    </tr>\n",
              "    <tr>\n",
              "      <th id=\"T_e4c4c_level0_row5\" class=\"row_heading level0 row5\" >BMI</th>\n",
              "      <td id=\"T_e4c4c_row5_col0\" class=\"data row5 col0\" >0.017683</td>\n",
              "      <td id=\"T_e4c4c_row5_col1\" class=\"data row5 col1\" >0.221071</td>\n",
              "      <td id=\"T_e4c4c_row5_col2\" class=\"data row5 col2\" >0.281805</td>\n",
              "      <td id=\"T_e4c4c_row5_col3\" class=\"data row5 col3\" >0.392573</td>\n",
              "      <td id=\"T_e4c4c_row5_col4\" class=\"data row5 col4\" >0.197859</td>\n",
              "      <td id=\"T_e4c4c_row5_col5\" class=\"data row5 col5\" >1.000000</td>\n",
              "      <td id=\"T_e4c4c_row5_col6\" class=\"data row5 col6\" >0.140647</td>\n",
              "      <td id=\"T_e4c4c_row5_col7\" class=\"data row5 col7\" >0.036242</td>\n",
              "      <td id=\"T_e4c4c_row5_col8\" class=\"data row5 col8\" >0.292695</td>\n",
              "    </tr>\n",
              "    <tr>\n",
              "      <th id=\"T_e4c4c_level0_row6\" class=\"row_heading level0 row6\" >DiabetesPedigreeFunction</th>\n",
              "      <td id=\"T_e4c4c_row6_col0\" class=\"data row6 col0\" >0.033523</td>\n",
              "      <td id=\"T_e4c4c_row6_col1\" class=\"data row6 col1\" >0.137337</td>\n",
              "      <td id=\"T_e4c4c_row6_col2\" class=\"data row6 col2\" >0.041265</td>\n",
              "      <td id=\"T_e4c4c_row6_col3\" class=\"data row6 col3\" >0.183928</td>\n",
              "      <td id=\"T_e4c4c_row6_col4\" class=\"data row6 col4\" >0.185071</td>\n",
              "      <td id=\"T_e4c4c_row6_col5\" class=\"data row6 col5\" >0.140647</td>\n",
              "      <td id=\"T_e4c4c_row6_col6\" class=\"data row6 col6\" >1.000000</td>\n",
              "      <td id=\"T_e4c4c_row6_col7\" class=\"data row6 col7\" >0.033561</td>\n",
              "      <td id=\"T_e4c4c_row6_col8\" class=\"data row6 col8\" >0.173844</td>\n",
              "    </tr>\n",
              "    <tr>\n",
              "      <th id=\"T_e4c4c_level0_row7\" class=\"row_heading level0 row7\" >Age</th>\n",
              "      <td id=\"T_e4c4c_row7_col0\" class=\"data row7 col0\" >0.544341</td>\n",
              "      <td id=\"T_e4c4c_row7_col1\" class=\"data row7 col1\" >0.263514</td>\n",
              "      <td id=\"T_e4c4c_row7_col2\" class=\"data row7 col2\" >0.239528</td>\n",
              "      <td id=\"T_e4c4c_row7_col3\" class=\"data row7 col3\" >0.113970</td>\n",
              "      <td id=\"T_e4c4c_row7_col4\" class=\"data row7 col4\" >0.042163</td>\n",
              "      <td id=\"T_e4c4c_row7_col5\" class=\"data row7 col5\" >0.036242</td>\n",
              "      <td id=\"T_e4c4c_row7_col6\" class=\"data row7 col6\" >0.033561</td>\n",
              "      <td id=\"T_e4c4c_row7_col7\" class=\"data row7 col7\" >1.000000</td>\n",
              "      <td id=\"T_e4c4c_row7_col8\" class=\"data row7 col8\" >0.238356</td>\n",
              "    </tr>\n",
              "    <tr>\n",
              "      <th id=\"T_e4c4c_level0_row8\" class=\"row_heading level0 row8\" >Outcome</th>\n",
              "      <td id=\"T_e4c4c_row8_col0\" class=\"data row8 col0\" >0.221898</td>\n",
              "      <td id=\"T_e4c4c_row8_col1\" class=\"data row8 col1\" >0.466581</td>\n",
              "      <td id=\"T_e4c4c_row8_col2\" class=\"data row8 col2\" >0.065068</td>\n",
              "      <td id=\"T_e4c4c_row8_col3\" class=\"data row8 col3\" >0.074752</td>\n",
              "      <td id=\"T_e4c4c_row8_col4\" class=\"data row8 col4\" >0.130548</td>\n",
              "      <td id=\"T_e4c4c_row8_col5\" class=\"data row8 col5\" >0.292695</td>\n",
              "      <td id=\"T_e4c4c_row8_col6\" class=\"data row8 col6\" >0.173844</td>\n",
              "      <td id=\"T_e4c4c_row8_col7\" class=\"data row8 col7\" >0.238356</td>\n",
              "      <td id=\"T_e4c4c_row8_col8\" class=\"data row8 col8\" >1.000000</td>\n",
              "    </tr>\n",
              "  </tbody>\n",
              "</table>\n"
            ]
          },
          "metadata": {},
          "execution_count": 9
        }
      ]
    },
    {
      "cell_type": "code",
      "source": [
        "df.corrwith(df['Outcome']).abs().sort_values(ascending=False)"
      ],
      "metadata": {
        "colab": {
          "base_uri": "https://localhost:8080/"
        },
        "id": "HJ_HUxy6gYr4",
        "outputId": "899cbf6a-a38b-4c54-fad1-b3b8e782db6f"
      },
      "execution_count": 11,
      "outputs": [
        {
          "output_type": "execute_result",
          "data": {
            "text/plain": [
              "Outcome                     1.000000\n",
              "Glucose                     0.466581\n",
              "BMI                         0.292695\n",
              "Age                         0.238356\n",
              "Pregnancies                 0.221898\n",
              "DiabetesPedigreeFunction    0.173844\n",
              "Insulin                     0.130548\n",
              "SkinThickness               0.074752\n",
              "BloodPressure               0.065068\n",
              "dtype: float64"
            ]
          },
          "metadata": {},
          "execution_count": 11
        }
      ]
    },
    {
      "cell_type": "code",
      "source": [
        "X = df.drop('Outcome', axis=1).values\n",
        "y = df['Outcome']"
      ],
      "metadata": {
        "id": "RJ-8RW1dgneP"
      },
      "execution_count": 12,
      "outputs": []
    },
    {
      "cell_type": "code",
      "source": [
        "from sklearn.preprocessing import StandardScaler\n",
        "\n",
        "scaler = StandardScaler()\n",
        "X = scaler.fit_transform(X)"
      ],
      "metadata": {
        "id": "pvhfsBw9hQFA"
      },
      "execution_count": 13,
      "outputs": []
    },
    {
      "cell_type": "code",
      "source": [
        "#ML"
      ],
      "metadata": {
        "id": "amhodRJGhU9h"
      },
      "execution_count": 14,
      "outputs": []
    },
    {
      "cell_type": "code",
      "source": [
        "# Train/test split\n",
        "from sklearn.model_selection import train_test_split\n",
        "\n",
        "X_train, X_test, y_train, y_test = train_test_split(X,y, test_size=0.2, random_state=12)\n",
        "\n",
        "# k-NN\n",
        "from sklearn.neighbors import KNeighborsClassifier\n",
        "knn = KNeighborsClassifier(n_neighbors=15) # k-ni qiymati\n",
        "\n",
        "knn.fit(X_train, y_train)"
      ],
      "metadata": {
        "colab": {
          "base_uri": "https://localhost:8080/"
        },
        "id": "r1PN9_BLhbPK",
        "outputId": "e7d69e4c-e863-4455-9c1d-80ed70931b55"
      },
      "execution_count": 46,
      "outputs": [
        {
          "output_type": "execute_result",
          "data": {
            "text/plain": [
              "KNeighborsClassifier(n_neighbors=15)"
            ]
          },
          "metadata": {},
          "execution_count": 46
        }
      ]
    },
    {
      "cell_type": "code",
      "source": [
        "y_predict = knn.predict(X_test)"
      ],
      "metadata": {
        "id": "zzWm_sashjcR"
      },
      "execution_count": 47,
      "outputs": []
    },
    {
      "cell_type": "code",
      "source": [
        "#Baholash\n",
        "#Jaccard_index"
      ],
      "metadata": {
        "id": "k_HckpYgh1rW"
      },
      "execution_count": 48,
      "outputs": []
    },
    {
      "cell_type": "code",
      "source": [
        "from sklearn.metrics import jaccard_score\n",
        "\n",
        "jaccard_score(y_test, y_predict)"
      ],
      "metadata": {
        "colab": {
          "base_uri": "https://localhost:8080/"
        },
        "id": "cCSMT2BSh6O6",
        "outputId": "87b0e1c0-1a37-4a7a-b726-679ee1d48d09"
      },
      "execution_count": 49,
      "outputs": [
        {
          "output_type": "execute_result",
          "data": {
            "text/plain": [
              "0.5454545454545454"
            ]
          },
          "metadata": {},
          "execution_count": 49
        }
      ]
    },
    {
      "cell_type": "code",
      "source": [
        "#Confusion Matrix"
      ],
      "metadata": {
        "id": "9JkQg0Xth9aG"
      },
      "execution_count": 50,
      "outputs": []
    },
    {
      "cell_type": "code",
      "source": [
        "from sklearn.metrics import confusion_matrix\n",
        "import seaborn as sns\n",
        "import matplotlib.pyplot as plt\n",
        "\n",
        "sns.heatmap(confusion_matrix(y_test, y_predict), annot=True)\n",
        "plt.show()"
      ],
      "metadata": {
        "colab": {
          "base_uri": "https://localhost:8080/",
          "height": 265
        },
        "id": "8eGBemPMiJT8",
        "outputId": "fc582255-9786-4876-c110-306c686b05f6"
      },
      "execution_count": 51,
      "outputs": [
        {
          "output_type": "display_data",
          "data": {
            "text/plain": [
              "<Figure size 432x288 with 2 Axes>"
            ],
            "image/png": "[encoded data removed]"
          },
          "metadata": {
            "needs_background": "light"
          }
        }
      ]
    },
    {
      "cell_type": "code",
      "source": [
        "confusion_matrix(y_test, y_predict)"
      ],
      "metadata": {
        "colab": {
          "base_uri": "https://localhost:8080/"
        },
        "id": "jGF165PJiKHT",
        "outputId": "4674643f-d4ef-4b3a-b0c2-e79af6b82611"
      },
      "execution_count": 52,
      "outputs": [
        {
          "output_type": "execute_result",
          "data": {
            "text/plain": [
              "array([[88, 11],\n",
              "       [19, 36]])"
            ]
          },
          "metadata": {},
          "execution_count": 52
        }
      ]
    },
    {
      "cell_type": "code",
      "source": [
        "# Precision, recall, F1"
      ],
      "metadata": {
        "id": "_Mv0pvrZiT5z"
      },
      "execution_count": 53,
      "outputs": []
    },
    {
      "cell_type": "code",
      "source": [
        "from sklearn.metrics import precision_score, recall_score, f1_score, accuracy_score\n",
        "precision = precision_score(y_test, y_predict)\n",
        "recall = recall_score(y_test, y_predict)\n",
        "f1 = f1_score(y_test, y_predict)\n",
        "accuracy = accuracy_score(y_test, y_predict)\n",
        "print(f\"precision={precision} \\n recall={recall}\\n f1={f1}\\n accuracy={accuracy}\")\n"
      ],
      "metadata": {
        "colab": {
          "base_uri": "https://localhost:8080/"
        },
        "id": "JsMIxSxkiZ9y",
        "outputId": "2daece87-9fea-4c4c-804c-04eb5c911314"
      },
      "execution_count": 54,
      "outputs": [
        {
          "output_type": "stream",
          "name": "stdout",
          "text": [
            "precision=0.7659574468085106 \n",
            " recall=0.6545454545454545\n",
            " f1=0.7058823529411765\n",
            " accuracy=0.8051948051948052\n"
          ]
        }
      ]
    },
    {
      "cell_type": "code",
      "source": [
        "from sklearn.metrics import classification_report\n",
        "print(classification_report(y_test, y_predict))"
      ],
      "metadata": {
        "colab": {
          "base_uri": "https://localhost:8080/"
        },
        "id": "FlgfeLUjidId",
        "outputId": "0e4a48ea-dd09-48d2-c6d9-1f9029b5d804"
      },
      "execution_count": 55,
      "outputs": [
        {
          "output_type": "stream",
          "name": "stdout",
          "text": [
            "              precision    recall  f1-score   support\n",
            "\n",
            "           0       0.82      0.89      0.85        99\n",
            "           1       0.77      0.65      0.71        55\n",
            "\n",
            "    accuracy                           0.81       154\n",
            "   macro avg       0.79      0.77      0.78       154\n",
            "weighted avg       0.80      0.81      0.80       154\n",
            "\n"
          ]
        }
      ]
    },
    {
      "cell_type": "code",
      "source": [
        "#Cross-validation yordamida tekshiramiz"
      ],
      "metadata": {
        "id": "aeXsQw2Ci8Ra"
      },
      "execution_count": 36,
      "outputs": []
    },
    {
      "cell_type": "code",
      "source": [
        "# Cross validation\n",
        "from sklearn.model_selection import cross_val_predict\n",
        "predict = cross_val_predict(estimator = knn, X = X, y = y, cv = 5)\n",
        "\n",
        "# Modelni baholash\n",
        "from sklearn.metrics import classification_report\n",
        "print(\"Classification Report: \\n\",classification_report(y, predict))"
      ],
      "metadata": {
        "colab": {
          "base_uri": "https://localhost:8080/"
        },
        "id": "ergwR1Esj3n4",
        "outputId": "5f2eb25f-265f-41ab-fb56-d924971c2fd5"
      },
      "execution_count": 37,
      "outputs": [
        {
          "output_type": "stream",
          "name": "stdout",
          "text": [
            "Classification Report: \n",
            "               precision    recall  f1-score   support\n",
            "\n",
            "           0       0.78      0.83      0.80       500\n",
            "           1       0.64      0.55      0.59       268\n",
            "\n",
            "    accuracy                           0.73       768\n",
            "   macro avg       0.71      0.69      0.70       768\n",
            "weighted avg       0.73      0.73      0.73       768\n",
            "\n"
          ]
        }
      ]
    },
    {
      "cell_type": "code",
      "source": [
        "# To find best K using for"
      ],
      "metadata": {
        "id": "Xho591qBj7oi"
      },
      "execution_count": 38,
      "outputs": []
    },
    {
      "cell_type": "code",
      "source": [
        "f1 = []\n",
        "for k in range(1,25):\n",
        "    knn = KNeighborsClassifier(n_neighbors=k) # k-ni qiymati\n",
        "    knn.fit(X_train, y_train)\n",
        "    y_predict = knn.predict(X_test)\n",
        "    f1.append(f1_score(y_test, y_predict))\n",
        "\n",
        "plt.figure(figsize=(10,6))\n",
        "plt.plot(range(1,25),f1)\n",
        "plt.xticks(range(1,25))\n",
        "plt.grid()\n",
        "plt.show()"
      ],
      "metadata": {
        "colab": {
          "base_uri": "https://localhost:8080/",
          "height": 374
        },
        "id": "XVY0IhVDkQ1p",
        "outputId": "94e5c0ee-d058-4260-950c-082044125231"
      },
      "execution_count": 39,
      "outputs": [
        {
          "output_type": "display_data",
          "data": {
            "text/plain": [
              "<Figure size 720x432 with 1 Axes>"
            ],
            "image/png": "[encoded data removed]"
          },
          "metadata": {
            "needs_background": "light"
          }
        }
      ]
    },
    {
      "cell_type": "code",
      "source": [
        "# To find best k using Grid search"
      ],
      "metadata": {
        "id": "ztVJ-tHQkq6R"
      },
      "execution_count": 40,
      "outputs": []
    },
    {
      "cell_type": "code",
      "source": [
        "from sklearn.model_selection import GridSearchCV\n",
        "\n",
        "param_grid = {'n_neighbors': np.arange(1, 25)}\n",
        "\n",
        "knn_gscv = GridSearchCV(knn, param_grid, cv=5)\n",
        "\n",
        "knn_gscv.fit(X, y)"
      ],
      "metadata": {
        "colab": {
          "base_uri": "https://localhost:8080/"
        },
        "id": "YsydyaPolKSb",
        "outputId": "e7e099ea-df45-4f98-ee5a-13722450287a"
      },
      "execution_count": 41,
      "outputs": [
        {
          "output_type": "execute_result",
          "data": {
            "text/plain": [
              "GridSearchCV(cv=5, estimator=KNeighborsClassifier(n_neighbors=24),\n",
              "             param_grid={'n_neighbors': array([ 1,  2,  3,  4,  5,  6,  7,  8,  9, 10, 11, 12, 13, 14, 15, 16, 17,\n",
              "       18, 19, 20, 21, 22, 23, 24])})"
            ]
          },
          "metadata": {},
          "execution_count": 41
        }
      ]
    },
    {
      "cell_type": "code",
      "source": [
        "knn_gscv.cv_results_['rank_test_score']"
      ],
      "metadata": {
        "colab": {
          "base_uri": "https://localhost:8080/"
        },
        "id": "L2I-etarlLXk",
        "outputId": "3d2359b8-bc07-4e6d-e0b9-0ab984074871"
      },
      "execution_count": 42,
      "outputs": [
        {
          "output_type": "execute_result",
          "data": {
            "text/plain": [
              "array([24, 23, 15, 18, 22, 21, 17, 16, 20, 19, 14,  9,  4, 11,  3, 12,  1,\n",
              "        6,  2,  8,  5, 10,  7, 13], dtype=int32)"
            ]
          },
          "metadata": {},
          "execution_count": 42
        }
      ]
    },
    {
      "cell_type": "code",
      "source": [
        "knn_gscv.best_params_"
      ],
      "metadata": {
        "colab": {
          "base_uri": "https://localhost:8080/"
        },
        "id": "d5bESk9Rlbrf",
        "outputId": "7ca3e677-c9f4-4ac6-fb5d-cb2311745d53"
      },
      "execution_count": 43,
      "outputs": [
        {
          "output_type": "execute_result",
          "data": {
            "text/plain": [
              "{'n_neighbors': 17}"
            ]
          },
          "metadata": {},
          "execution_count": 43
        }
      ]
    },
    {
      "cell_type": "code",
      "source": [
        "knn_gscv.best_score_"
      ],
      "metadata": {
        "colab": {
          "base_uri": "https://localhost:8080/"
        },
        "id": "JpjlSFZWlpsq",
        "outputId": "5881fc06-712f-481f-8efb-9128e1a02a23"
      },
      "execution_count": 44,
      "outputs": [
        {
          "output_type": "execute_result",
          "data": {
            "text/plain": [
              "0.7669892199303965"
            ]
          },
          "metadata": {},
          "execution_count": 44
        }
      ]
    },
    {
      "cell_type": "code",
      "source": [
        "plt.figure(figsize=(10,6))\n",
        "plt.plot(param_grid['n_neighbors'], knn_gscv.cv_results_['rank_test_score'])\n",
        "plt.xticks(param_grid['n_neighbors'])\n",
        "plt.xlabel(\"k\")\n",
        "plt.ylabel(\"Xatolik reytingi\")\n",
        "plt.grid()\n",
        "plt.show()"
      ],
      "metadata": {
        "colab": {
          "base_uri": "https://localhost:8080/",
          "height": 390
        },
        "id": "tgHrZAFKltIJ",
        "outputId": "ecb009b3-51cb-4b7a-d850-613767626e73"
      },
      "execution_count": 45,
      "outputs": [
        {
          "output_type": "display_data",
          "data": {
            "text/plain": [
              "<Figure size 720x432 with 1 Axes>"
            ],
            "image/png": "[encoded data removed]"
          },
          "metadata": {
            "needs_background": "light"
          }
        }
      ]
    },
    {
      "cell_type": "code",
      "source": [
        ""
      ],
      "metadata": {
        "id": "yzqvkZW5l2zT"
      },
      "execution_count": null,
      "outputs": []
    }
  ]
}